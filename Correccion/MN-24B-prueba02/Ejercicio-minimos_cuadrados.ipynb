{
 "cells": [
  {
   "cell_type": "markdown",
   "metadata": {},
   "source": [
    "# ESCUELA POLITECNICA NACIONAL \n",
    "\n",
    "## Materia: Métodos Numéricos \n",
    "\n",
    "## Nombre: Stiv Quishpe \n",
    "\n",
    "### link repositorio \n",
    "\n",
    "https://github.com/stiv001/CorreccionB2.git\n",
    "\n",
    "# Ejercico Mínimos cuadrados\n",
    "\n",
    "\n",
    "\n",
    "Interpole los siguientes conjuntos de datos con la función correspondiente. "
   ]
  },
  {
   "cell_type": "code",
   "execution_count": 1,
   "metadata": {},
   "outputs": [],
   "source": [
    "# Derivadas parciales para regresión lineal\n",
    "# ####################################################################\n",
    "def der_parcial_1(xs: list, ys: list) -> tuple[float, float, float]:\n",
    "    \"\"\"Retorna los coeficientes de la ecuación de la derivada parcial con respecto al parámetro 1 al reemplazar los valores ``xs`` y ``ys``. La ecuación es de la forma:\n",
    "    c_1 * a_1 + c_0 * a_0 = c_ind\n",
    "\n",
    "\n",
    "    ## Parameters\n",
    "\n",
    "    ``xs``: lista de valores de x.\n",
    "\n",
    "    ``ys``: lista de valores de y.\n",
    "\n",
    "    ## Return\n",
    "\n",
    "    ``c_1``: coeficiente del parámetro 1.\n",
    "\n",
    "    ``c_0``: coeficiente del parámetro 0.\n",
    "\n",
    "    ``c_ind``: coeficiente del término independiente.\n",
    "\n",
    "    \"\"\"\n",
    "\n",
    "    c_ind = sum(ys)\n",
    "    c_1 = sum(xs)\n",
    "    c_0 = len(xs)\n",
    "\n",
    "    return (c_1, c_0, c_ind)\n",
    "\n",
    "\n",
    "def der_parcial_0(xs: list, ys: list) -> tuple[float, float, float]:\n",
    "    \"\"\"Retorna los coeficientes de la ecuación de la derivada parcial con respecto al parámetro 0 al reemplazar los valores ``xs`` y ``ys``. La ecuación es de la forma:\n",
    "    c_1 * a_1 + c_0 * a_0 = c_ind\n",
    "\n",
    "\n",
    "    ## Parameters\n",
    "\n",
    "    ``xs``: lista de valores de x.\n",
    "\n",
    "    ``ys``: lista de valores de y.\n",
    "\n",
    "    ## Return\n",
    "\n",
    "    ``c_1``: coeficiente del parámetro 1.\n",
    "\n",
    "    ``c_0``: coeficiente del parámetro 0.\n",
    "\n",
    "    ``c_ind``: coeficiente del término independiente.\n",
    "\n",
    "    \"\"\"\n",
    "    c_1 = 0\n",
    "    c_0 = 0\n",
    "    c_ind = 0\n",
    "    for xi, yi in zip(xs, ys):\n",
    "        c_ind += xi * yi\n",
    "        c_1 += xi * xi\n",
    "        c_0 += xi\n",
    "\n",
    "    return (c_1, c_0, c_ind)"
   ]
  },
  {
   "cell_type": "markdown",
   "metadata": {},
   "source": [
    "# Conjunto de datos de ejemplo"
   ]
  },
  {
   "cell_type": "code",
   "execution_count": 2,
   "metadata": {},
   "outputs": [],
   "source": [
    "xs = [\n",
    "    -5.0000,\n",
    "    -3.8889,\n",
    "    -2.7778,\n",
    "    -1.6667,\n",
    "    -0.5556,\n",
    "    0.5556,\n",
    "    1.6667,\n",
    "    2.7778,\n",
    "    3.8889,\n",
    "    5.0000,\n",
    "]\n",
    "ys = [\n",
    "    -12.7292,\n",
    "    -7.5775,\n",
    "    -7.7390,\n",
    "    -4.1646,\n",
    "    -4.5382,\n",
    "    2.2048,\n",
    "    4.3369,\n",
    "    2.2227,\n",
    "    9.0625,\n",
    "    7.1860,\n",
    "]"
   ]
  },
  {
   "cell_type": "code",
   "execution_count": 4,
   "metadata": {},
   "outputs": [
    {
     "name": "stdout",
     "output_type": "stream",
     "text": [
      "[01-11 11:46:53][INFO] 2025-01-11 11:46:53.918058\n",
      "[01-11 11:46:53][INFO] 2025-01-11 11:46:53.921568\n",
      "[01-11 11:46:53][INFO] Se ajustarán 2 parámetros.\n",
      "[01-11 11:46:53][INFO] \n",
      "[[101.8525926    0.         209.87476711]\n",
      " [  0.          10.         -11.7356    ]]\n"
     ]
    }
   ],
   "source": [
    "from src import ajustar_min_cuadrados  # no modificar esta función\n",
    "\n",
    "pars = ajustar_min_cuadrados(xs, ys, gradiente=[der_parcial_0, der_parcial_1])"
   ]
  },
  {
   "cell_type": "code",
   "execution_count": 5,
   "metadata": {},
   "outputs": [
    {
     "name": "stdout",
     "output_type": "stream",
     "text": [
      "[01-11 11:46:56][INFO] Se ajustarán 2 parámetros.\n",
      "[01-11 11:46:56][INFO] \n",
      "[[101.8525926    0.         209.87476711]\n",
      " [  0.          10.         -11.7356    ]]\n"
     ]
    },
    {
     "data": {
      "image/png": "[encoded data removed]",
      "text/plain": [
       "<Figure size 640x480 with 1 Axes>"
      ]
     },
     "metadata": {},
     "output_type": "display_data"
    }
   ],
   "source": [
    "import numpy as np\n",
    "import matplotlib.pyplot as plt\n",
    "\n",
    "m, b = ajustar_min_cuadrados(xs, ys, gradiente=[der_parcial_0, der_parcial_1])\n",
    "\n",
    "x = np.linspace(-5, 5, 100)\n",
    "\n",
    "y = [m * xi + b for xi in x]\n",
    "\n",
    "plt.scatter(xs, ys, label=\"Datos\")\n",
    "plt.plot(x, y, color=\"red\", label=r\"$ y = a_1 x + a_0 $\")\n",
    "plt.xlabel(\"x\")\n",
    "plt.ylabel(\"y\")\n",
    "plt.title(\"Ajuste por mínimos cuadrados \")\n",
    "plt.legend()\n",
    "plt.show()"
   ]
  },
  {
   "cell_type": "markdown",
   "metadata": {},
   "source": [
    "## Conjunto de datos 1"
   ]
  },
  {
   "cell_type": "code",
   "execution_count": 6,
   "metadata": {},
   "outputs": [],
   "source": [
    "xs1 = [\n",
    "    -5.0000,\n",
    "    -3.8889,\n",
    "    -2.7778,\n",
    "    -1.6667,\n",
    "    -0.5556,\n",
    "    0.5556,\n",
    "    1.6667,\n",
    "    2.7778,\n",
    "    3.8889,\n",
    "    5.0000,\n",
    "]\n",
    "ys1 = [\n",
    "    57.2441,\n",
    "    33.0303,\n",
    "    16.4817,\n",
    "    7.0299,\n",
    "    0.5498,\n",
    "    0.7117,\n",
    "    3.4185,\n",
    "    12.1767,\n",
    "    24.9167,\n",
    "    44.2495,\n",
    "]"
   ]
  },
  {
   "cell_type": "code",
   "execution_count": 12,
   "metadata": {},
   "outputs": [
    {
     "name": "stdout",
     "output_type": "stream",
     "text": [
      "[01-11 12:23:03][INFO] Se ajustarán 3 parámetros.\n",
      "[01-11 12:23:03][INFO] \n",
      "[[ 1.01852593e+02  0.00000000e+00  1.00000000e+01  1.99808900e+02]\n",
      " [ 0.00000000e+00  1.01852593e+02  0.00000000e+00 -1.14413577e+02]\n",
      " [-2.27373675e-13  0.00000000e+00 -7.90113041e+01  5.04294087e+01]]\n",
      "[01-11 12:23:03][INFO] \n",
      "[[ 1.01852593e+02  0.00000000e+00  1.00000000e+01  1.99808900e+02]\n",
      " [ 0.00000000e+00  1.01852593e+02  0.00000000e+00 -1.14413577e+02]\n",
      " [-2.27373675e-13  0.00000000e+00 -7.90113041e+01  5.04294087e+01]]\n"
     ]
    },
    {
     "data": {
      "image/png": "[encoded data removed]",
      "text/plain": [
       "<Figure size 640x480 with 1 Axes>"
      ]
     },
     "metadata": {},
     "output_type": "display_data"
    },
    {
     "name": "stdout",
     "output_type": "stream",
     "text": [
      "Coeficiente a2: 2.024410482925083\n",
      "Coeficiente a1: -1.1233251295755429\n",
      "Coeficiente a0: -0.6382556172537739\n"
     ]
    }
   ],
   "source": [
    "\n",
    "def der_parcial_2(xs: list, ys: list) -> tuple[float, float, float, float]:\n",
    "    \"\"\"Retorna los coeficientes de la ecuación de la derivada parcial con respecto al parámetro 2.\n",
    "    \n",
    "    c_2 * a_2 + c_1 * a_1 + c_0 * a_0 = c_ind\n",
    "    \n",
    "    ## Parameters\n",
    "    ``xs``: lista de valores de x.\n",
    "    ``ys``: lista de valores de y.\n",
    "    \n",
    "    ## Return\n",
    "    ``c_2``: coeficiente del parámetro 2.\n",
    "    ``c_1``: coeficiente del parámetro 1.\n",
    "    ``c_0``: coeficiente del parámetro 0.\n",
    "    ``c_ind``: coeficiente del término independiente.\n",
    "    \"\"\"\n",
    "    c_2 = sum(xi**4 for xi in xs)\n",
    "    c_1 = sum(xi**3 for xi in xs)\n",
    "    c_0 = sum(xi**2 for xi in xs)\n",
    "    c_ind = sum(yi * xi**2 for yi, xi in zip(ys, xs))\n",
    "    return (c_2, c_1, c_0, c_ind)\n",
    "\n",
    "def der_parcial_1(xs: list, ys: list) -> tuple[float, float, float, float]:\n",
    "    \"\"\"Retorna los coeficientes de la ecuación de la derivada parcial con respecto al parámetro 1.\n",
    "    \n",
    "    c_2 * a_2 + c_1 * a_1 + c_0 * a_0 = c_ind\n",
    "    \n",
    "    ## Parameters\n",
    "    ``xs``: lista de valores de x.\n",
    "    ``ys``: lista de valores de y.\n",
    "    \n",
    "    ## Return\n",
    "    ``c_2``: coeficiente del parámetro 2.\n",
    "    ``c_1``: coeficiente del parámetro 1.\n",
    "    ``c_0``: coeficiente del parámetro 0.\n",
    "    ``c_ind``: coeficiente del término independiente.\n",
    "    \"\"\"\n",
    "    c_2 = sum(xi**3 for xi in xs)\n",
    "    c_1 = sum(xi**2 for xi in xs)\n",
    "    c_0 = sum(xi for xi in xs)\n",
    "    c_ind = sum(yi * xi for yi, xi in zip(ys, xs))\n",
    "    return (c_2, c_1, c_0, c_ind)\n",
    "\n",
    "def der_parcial_0(xs: list, ys: list) -> tuple[float, float, float, float]:\n",
    "    \"\"\"Retorna los coeficientes de la ecuación de la derivada parcial con respecto al parámetro 0.\n",
    "    \n",
    "    c_2 * a_2 + c_1 * a_1 + c_0 * a_0 = c_ind\n",
    "    \n",
    "    ## Parameters\n",
    "    ``xs``: lista de valores de x.\n",
    "    ``ys``: lista de valores de y.\n",
    "    \n",
    "    ## Return\n",
    "    ``c_2``: coeficiente del parámetro 2.\n",
    "    ``c_1``: coeficiente del parámetro 1.\n",
    "    ``c_0``: coeficiente del parámetro 0.\n",
    "    ``c_ind``: coeficiente del término independiente.\n",
    "    \"\"\"\n",
    "    c_2 = sum(xi**2 for xi in xs)\n",
    "    c_1 = sum(xi for xi in xs)\n",
    "    c_0 = len(xs)\n",
    "    c_ind = sum(ys)\n",
    "    return (c_2, c_1, c_0, c_ind)\n",
    "\n",
    "def parabola(x: float, pars: tuple[float, float, float]) -> float:\n",
    "    \"\"\"Ecuación de la parábola y = a2 * x^2 + a1 * x + a0.\n",
    "    \n",
    "    ## Parameters\n",
    "    ``x``: valor de x.\n",
    "    ``pars``: parámetros de la parábola. Deben ser de la forma (a2, a1, a0).\n",
    "    \n",
    "    ## Return\n",
    "    ``y``: valor de y.\n",
    "    \"\"\"\n",
    "    a2, a1, a0 = pars\n",
    "    return a2 * x**2 + a1 * x + a0\n",
    "\n",
    "xs2 = [\n",
    "    -5.0000,\n",
    "    -3.8889,\n",
    "    -2.7778,\n",
    "    -1.6667,\n",
    "    -0.5556,\n",
    "    0.5556,\n",
    "    1.6667,\n",
    "    2.7778,\n",
    "    3.8889,\n",
    "    5.0000,\n",
    "]\n",
    "ys2 = [\n",
    "    57.2441,\n",
    "    33.0303,\n",
    "    16.4817,\n",
    "    7.0299,\n",
    "    0.5498,\n",
    "    0.7117,\n",
    "    3.4185,\n",
    "    12.1767,\n",
    "    24.9167,\n",
    "    44.2495,\n",
    "]\n",
    "\n",
    "from src import ajustar_min_cuadrados\n",
    "pars2 = ajustar_min_cuadrados(xs2, ys2, gradiente=[der_parcial_2, der_parcial_1, der_parcial_0])\n",
    "pars2 \n",
    "\n",
    "import numpy as np\n",
    "import matplotlib.pyplot as plt\n",
    "\n",
    "x = np.linspace(-5, 5, 100)\n",
    "y = [parabola(xi, pars2) for xi in x]\n",
    "\n",
    "plt.scatter(xs2, ys2, label=\"Datos\")\n",
    "plt.plot(x, y, color=\"red\", label=r\"$ y = a_2 x^2 + a_1 x + a_0 $\")\n",
    "plt.xlabel(\"x\")\n",
    "plt.ylabel(\"y\")\n",
    "plt.title(\"Ajuste por mínimos cuadrados\")\n",
    "plt.legend()\n",
    "plt.show()\n",
    "a2, a1, a0 = pars2\n",
    "print(f\"Coeficiente a2: {a2}\")\n",
    "print(f\"Coeficiente a1: {a1}\")\n",
    "print(f\"Coeficiente a0: {a0}\")"
   ]
  },
  {
   "cell_type": "code",
   "execution_count": 17,
   "metadata": {},
   "outputs": [
    {
     "name": "stdout",
     "output_type": "stream",
     "text": [
      "El valor de y para x = 2.25 es: 7.082840911009487\n"
     ]
    }
   ],
   "source": [
    "import numpy as np\n",
    "\n",
    "a2 = 2.024410482925083\n",
    "a1 = -1.1233251295755429\n",
    "a0 = -0.6382556172537739\n",
    "\n",
    "x_val = 2.25\n",
    "y_eval = a2 * x_val**2 + a1 * x_val + a0\n",
    "print(f\"El valor de y para x = {x_val} es: {y_eval}\")\n",
    "\n"
   ]
  },
  {
   "cell_type": "code",
   "execution_count": 18,
   "metadata": {},
   "outputs": [
    {
     "name": "stdout",
     "output_type": "stream",
     "text": [
      "El valor de y para x = -2.25 es: 12.13780399409943\n"
     ]
    }
   ],
   "source": [
    "x_val = -2.25\n",
    "y_eval = a2 * x_val**2 + a1 * x_val + a0\n",
    "print(f\"El valor de y para x = {x_val} es: {y_eval}\")"
   ]
  },
  {
   "cell_type": "code",
   "execution_count": 15,
   "metadata": {},
   "outputs": [
    {
     "data": {
      "text/plain": [
       "array([0.277445+0.84804434j, 0.277445-0.84804434j])"
      ]
     },
     "execution_count": 15,
     "metadata": {},
     "output_type": "execute_result"
    }
   ],
   "source": [
    "import numpy as np\n",
    "\n",
    "a2 = 2.024410482925083\n",
    "a1 = -1.1233251295755429\n",
    "a0 = -0.6382556172537739\n",
    "\n",
    "y_val = -2.25\n",
    "\n",
    "coefficients = [a2, a1, a0 - y_val]\n",
    "roots = np.roots(coefficients)\n",
    "\n",
    "roots"
   ]
  },
  {
   "cell_type": "markdown",
   "metadata": {},
   "source": [
    "Interpole el conjunto de datos 1 usando la función cuadrática. "
   ]
  },
  {
   "cell_type": "markdown",
   "metadata": {},
   "source": [
    "## Conjunto de datos 2"
   ]
  },
  {
   "cell_type": "code",
   "execution_count": 3,
   "metadata": {},
   "outputs": [],
   "source": [
    "\n",
    "xs2 = [\n",
    "    0.0003,\n",
    "    0.0822,\n",
    "    0.2770,\n",
    "    0.4212,\n",
    "    0.4403,\n",
    "    0.5588,\n",
    "    0.5943,\n",
    "    0.6134,\n",
    "    0.9070,\n",
    "    1.0367,\n",
    "    1.1903,\n",
    "    1.2511,\n",
    "    1.2519,\n",
    "    1.2576,\n",
    "    1.6165,\n",
    "    1.6761,\n",
    "    2.0114,\n",
    "    2.0557,\n",
    "    2.1610,\n",
    "    2.6344,\n",
    "]\n",
    "ys2 = [\n",
    "    1.1017,\n",
    "    1.5021,\n",
    "    0.3844,\n",
    "    1.3251,\n",
    "    1.7206,\n",
    "    1.9453,\n",
    "    0.3894,\n",
    "    0.3328,\n",
    "    1.2887,\n",
    "    3.1239,\n",
    "    2.1778,\n",
    "    3.1078,\n",
    "    4.1856,\n",
    "    3.3640,\n",
    "    6.0330,\n",
    "    5.8088,\n",
    "    10.5890,\n",
    "    11.5865,\n",
    "    11.8221,\n",
    "    26.5077,\n",
    "]\n"
   ]
  },
  {
   "cell_type": "code",
   "execution_count": 4,
   "metadata": {},
   "outputs": [
    {
     "data": {
      "image/png": "[encoded data removed]",
      "text/plain": [
       "<Figure size 640x480 with 1 Axes>"
      ]
     },
     "metadata": {},
     "output_type": "display_data"
    },
    {
     "name": "stdout",
     "output_type": "stream",
     "text": [
      "El valor de y para x = 5 es: 924.5446340088477\n"
     ]
    }
   ],
   "source": [
    "import numpy as np\n",
    "from scipy.optimize import curve_fit\n",
    "\n",
    "import matplotlib.pyplot as plt\n",
    "\n",
    "def func_exp(x, a, b):\n",
    "    return a * np.exp(b * x)\n",
    "\n",
    "popt, pcov = curve_fit(func_exp, xs2, ys2)\n",
    "\n",
    "a, b = popt\n",
    "\n",
    "x_fit = np.linspace(min(xs2), max(xs2), 100)\n",
    "\n",
    "y_fit = func_exp(x_fit, a, b)\n",
    "\n",
    "plt.scatter(xs2, ys2, label=\"Datos\")\n",
    "plt.plot(x_fit, y_fit, color=\"g\", label=f\"$y = {a:.2f} e^{{{b:.2f} x}}$\")\n",
    "plt.xlabel(\"x\")\n",
    "plt.ylabel(\"y\")\n",
    "plt.title(\"Ajuste exponencial por mínimos cuadrados\")\n",
    "plt.legend()\n",
    "plt.show()\n",
    "x_val = 5\n",
    "y_val = func_exp(x_val, a, b)\n",
    "print(f\"El valor de y para x = {x_val} es: {y_val}\")"
   ]
  },
  {
   "cell_type": "code",
   "execution_count": 35,
   "metadata": {},
   "outputs": [
    {
     "name": "stdout",
     "output_type": "stream",
     "text": [
      "El valor de y para x = 1 es: 2.2518190038794166\n"
     ]
    }
   ],
   "source": [
    "x_val = 1\n",
    "y_val = func_exp(x_val, a, b)\n",
    "print(f\"El valor de y para x = {x_val} es: {y_val}\")"
   ]
  },
  {
   "cell_type": "markdown",
   "metadata": {},
   "source": [
    "Interpole el conjunto de datos 2 usando la función exponencial. "
   ]
  },
  {
   "cell_type": "code",
   "execution_count": null,
   "metadata": {},
   "outputs": [],
   "source": []
  }
 ],
 "metadata": {
  "kernelspec": {
   "display_name": "base",
   "language": "python",
   "name": "python3"
  },
  "language_info": {
   "codemirror_mode": {
    "name": "ipython",
    "version": 3
   },
   "file_extension": ".py",
   "mimetype": "text/x-python",
   "name": "python",
   "nbconvert_exporter": "python",
   "pygments_lexer": "ipython3",
   "version": "3.12.3"
  }
 },
 "nbformat": 4,
 "nbformat_minor": 2
}
